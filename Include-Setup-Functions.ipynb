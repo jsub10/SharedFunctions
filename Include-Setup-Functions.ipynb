{
 "cells": [
  {
   "cell_type": "markdown",
   "metadata": {},
   "source": [
    "# Include-Setup-Functions\n",
    "- Import libraries for handling data\n",
    "- Set plotting styles\n",
    "- Set how dataframes are rendered in Jupyter notebooks"
   ]
  },
  {
   "cell_type": "code",
   "execution_count": null,
   "metadata": {},
   "outputs": [],
   "source": [
    "# Python logging to monitor gensim models\n",
    "#### TURN ON AS NEEDED ####\n",
    "#import logging\n",
    "#logging.basicConfig(format='%(asctime)s : %(levelname)s : %(message)s', level=logging.INFO)"
   ]
  },
  {
   "cell_type": "markdown",
   "metadata": {},
   "source": [
    "## Packages for computation and data manipulation"
   ]
  },
  {
   "cell_type": "code",
   "execution_count": null,
   "metadata": {},
   "outputs": [],
   "source": [
    "import numpy as np # for number crunching\n",
    "import pandas as pd # for data loading and manipulation\n",
    "import time\n",
    "import pickle\n",
    "import re\n",
    "import random\n",
    "import re # regex\n",
    "import itertools\n",
    "from itertools import groupby\n",
    "import collections\n",
    "from collections import Counter\n",
    "from collections import defaultdict\n",
    "from datetime import date, datetime, timedelta\n",
    "import string\n",
    "import io\n",
    "\n",
    "import scipy\n",
    "from scipy import stats\n",
    "import scipy.sparse as sp\n",
    "from scipy.spatial import distance\n",
    "#from scipy.spatial.distance import cdist\n",
    "from scipy.spatial import Voronoi # for showing cluster boundaries\n",
    "\n",
    "import sympy"
   ]
  },
  {
   "cell_type": "markdown",
   "metadata": {},
   "source": [
    "## Scikit Learn packages for ML models"
   ]
  },
  {
   "cell_type": "code",
   "execution_count": null,
   "metadata": {},
   "outputs": [],
   "source": [
    "from sklearn.pipeline import Pipeline\n",
    "from sklearn.preprocessing import LabelEncoder, OneHotEncoder\n",
    "from sklearn.utils import shuffle\n",
    "from sklearn.preprocessing import MinMaxScaler, StandardScaler\n",
    "\n",
    "from sklearn.model_selection import train_test_split\n",
    "from sklearn.model_selection import GridSearchCV\n",
    "\n",
    "from sklearn import svm\n",
    "from sklearn.svm import SVC\n",
    "from sklearn.cluster import KMeans\n",
    "from sklearn.metrics import silhouette_samples, silhouette_score\n",
    "from sklearn.decomposition import PCA\n",
    "\n",
    "from sklearn.metrics import accuracy_score\n",
    "from sklearn.metrics import confusion_matrix, f1_score"
   ]
  },
  {
   "cell_type": "markdown",
   "metadata": {},
   "source": [
    "## Useful programming tips\n",
    "- Flattening a list of lists into a single list\n",
    " - https://stackoverflow.com/questions/952914/making-a-flat-list-out-of-list-of-lists-in-python\n",
    " - flat_list = [item for sublist in K for item in sublist] where K is the list of lists"
   ]
  },
  {
   "cell_type": "markdown",
   "metadata": {},
   "source": [
    "## Set up plotting packages, modules, styles"
   ]
  },
  {
   "cell_type": "code",
   "execution_count": 1,
   "metadata": {},
   "outputs": [],
   "source": [
    "# Import the pyplot module from the matplotlib library\n",
    "#from matplotlib import pyplot as plt\n",
    "#import matplotlib as mpl\n",
    "import matplotlib as mpl, matplotlib.pyplot as plt\n",
    "import matplotlib.ticker as ticker\n",
    "from mpl_toolkits.mplot3d import Axes3D\n",
    "# Use Jupyter magics to plot inline without needing to call plt.show()\n",
    "# From the documentation (https://stackoverflow.com/questions/43027980/)\n",
    "# \"With backend = 'inline', the output of plotting commands is displayed inline within frontends \n",
    "#   like the Jupyter notebook, directly below the code cell that produced it. \n",
    "#   The resulting plots will then also be stored in the notebook document.\"\n",
    "#%matplotlib inline"
   ]
  },
  {
   "cell_type": "code",
   "execution_count": null,
   "metadata": {},
   "outputs": [],
   "source": [
    "# Import the Seaborn library (by Michael Waskom)\n",
    "import seaborn as sns\n",
    "# Set the visual styles\n",
    "## See https://seaborn.pydata.org/tutorial/aesthetics.html for settings\n",
    "sns.set(context = 'notebook', \n",
    "        palette = 'bright', \n",
    "        font = 'sans-serif', \n",
    "        font_scale = 1.3, \n",
    "        color_codes = True, \n",
    "        rc = None\n",
    "       )\n",
    "sns.set_palette(\"husl\")\n",
    "#sns.set_palette(\"Set2\")"
   ]
  },
  {
   "cell_type": "code",
   "execution_count": null,
   "metadata": {},
   "outputs": [],
   "source": [
    "# The current Seaborn styles\n",
    "#sns.axes_style()"
   ]
  },
  {
   "cell_type": "code",
   "execution_count": 2,
   "metadata": {},
   "outputs": [
    {
     "name": "stdout",
     "output_type": "stream",
     "text": [
      "['bmh', 'classic', 'dark_background', 'fast', 'fivethirtyeight', 'ggplot', 'grayscale', 'seaborn-bright', 'seaborn-colorblind', 'seaborn-dark-palette', 'seaborn-dark', 'seaborn-darkgrid', 'seaborn-deep', 'seaborn-muted', 'seaborn-notebook', 'seaborn-paper', 'seaborn-pastel', 'seaborn-poster', 'seaborn-talk', 'seaborn-ticks', 'seaborn-white', 'seaborn-whitegrid', 'seaborn', 'Solarize_Light2', 'tableau-colorblind10', '_classic_test']\n"
     ]
    }
   ],
   "source": [
    "# List the matplotlib styles available\n",
    "print(plt.style.available)"
   ]
  },
  {
   "cell_type": "code",
   "execution_count": null,
   "metadata": {},
   "outputs": [],
   "source": [
    "#### SET the matplotlib style HERE ####\n",
    "style = 'seaborn-whitegrid'\n",
    "plt.style.use(style)\n",
    "# See https://xkcd.com/color/rgb/ for xkcd named colors\n",
    "xkcd_colors = [\"blue\", \"hot pink\", \"violet\", \"olive\", \"lime green\", \"lemon yellow\", \"goldenrod\", \"dark orange\", \"periwinkle\", \"black\"]"
   ]
  },
  {
   "cell_type": "code",
   "execution_count": null,
   "metadata": {},
   "outputs": [],
   "source": [
    "#### UNCOMMENT TO TEST ####\n",
    "# Test out the style settings\n",
    "#print(\"Here's what the {} style looks like...\".format(style))\n",
    "#fig, axes = plt.subplots(1, 4, figsize=(12, 4))\n",
    "#axes[0].set_xlim(0, 0.5)"
   ]
  },
  {
   "cell_type": "code",
   "execution_count": null,
   "metadata": {},
   "outputs": [],
   "source": [
    "# Plotnine for ggplot\n",
    "## NOTE: This will throw the following warning:\n",
    "### FutureWarning: The pandas.core.datetools module is deprecated and will be removed in a future version. \n",
    "### Please use the pandas.tseries module instead. from pandas.core import datetools\n",
    "### Not sure how to handle it.\n",
    "\n",
    "#from plotnine import ggplot\n",
    "#from plotnine import *"
   ]
  },
  {
   "cell_type": "markdown",
   "metadata": {},
   "source": [
    "## Jupyter notebook settings"
   ]
  },
  {
   "cell_type": "code",
   "execution_count": null,
   "metadata": {},
   "outputs": [],
   "source": [
    "# Make sure all columns of a dataframe are displayed\n",
    "# https://stackoverflow.com/questions/47022070/\n",
    "from IPython.display import display\n",
    "#pd.options.display.max_columns = None"
   ]
  },
  {
   "cell_type": "code",
   "execution_count": null,
   "metadata": {},
   "outputs": [],
   "source": [
    "# Make sure that a dataframe column value (e.g., a large text field) is not truncated\n",
    "# https://stackoverflow.com/questions/25351968\n",
    "#pd.set_option('display.max_colwidth', None)\n",
    "#pd.set_option('display.max_rows', 100)\n",
    "\n",
    "## UPDATED May 19, 2021\n",
    "## https://stackoverflow.com/questions/49188960/how-to-show-all-of-columns-name-on-pandas-dataframe\n",
    "pd.set_option('display.max_columns', None)\n",
    "pd.set_option('display.max_colwidth', None)\n",
    "pd.set_option('display.max_rows', 100)"
   ]
  },
  {
   "cell_type": "code",
   "execution_count": null,
   "metadata": {},
   "outputs": [],
   "source": [
    "# Configure slide scrolling\n",
    "# from hfinger at https://github.com/damianavila/RISE/issues/185\n",
    "#### NOTE: Have to restart notebook server after running it the first time ####\n",
    "from notebook.services.config import ConfigManager\n",
    "cm = ConfigManager()\n",
    "cm.update('livereveal', {'width': 1024, 'height': 768, 'scroll': True})"
   ]
  }
 ],
 "metadata": {
  "kernelspec": {
   "display_name": "Python 3 (ipykernel)",
   "language": "python",
   "name": "python3"
  },
  "language_info": {
   "codemirror_mode": {
    "name": "ipython",
    "version": 3
   },
   "file_extension": ".py",
   "mimetype": "text/x-python",
   "name": "python",
   "nbconvert_exporter": "python",
   "pygments_lexer": "ipython3",
   "version": "3.9.7"
  }
 },
 "nbformat": 4,
 "nbformat_minor": 4
}
